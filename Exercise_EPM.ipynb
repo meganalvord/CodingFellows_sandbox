{
  "cells": [
    {
      "cell_type": "markdown",
      "metadata": {
        "id": "view-in-github",
        "colab_type": "text"
      },
      "source": [
        "<a href=\"https://colab.research.google.com/github/meganalvord/CodingFellows_sandbox/blob/main/Exercise_EPM.ipynb\" target=\"_parent\"><img src=\"https://colab.research.google.com/assets/colab-badge.svg\" alt=\"Open In Colab\"/></a>"
      ]
    },
    {
      "cell_type": "markdown",
      "source": [],
      "metadata": {
        "id": "wzwd35maOz4Y"
      },
      "id": "wzwd35maOz4Y"
    },
    {
      "cell_type": "markdown",
      "id": "a04b2dc0-68b7-4b30-9de2-0a785988acca",
      "metadata": {
        "id": "a04b2dc0-68b7-4b30-9de2-0a785988acca"
      },
      "source": [
        "## Energy, Momentum, and Mass\n",
        "\n",
        "Walter Kaufmann and Alfred Bucherer performed experiments in the early 20th century to determine the effect of electric fields and magnetic fields on moving electrons. In 1901, Kaufmann did an experiment to investigate the effect of changing energy on electrons in the 0.7 MeV to 1.6 MeV energy range. Later, Bucherer did a similar experiment, which included lower energy electrons. Note that Kaufmann took his data before the introduction of the special theory of relativity in 1905. In both cases, the experimenters measured energy by deflecting an electron beam with an electric field while momentum was derived by deflecting the beam with a magnetic field, as seen in [Figure 1](https://drive.google.com/uc?export=view&id=1BSOCNoXLmHfuN2rczExpGL-cpNqJqxy1)  \n",
        "\n"
      ]
    },
    {
      "cell_type": "markdown",
      "id": "1a068adb-d4ca-43b5-bb57-392e4da102d9",
      "metadata": {
        "id": "1a068adb-d4ca-43b5-bb57-392e4da102d9"
      },
      "source": [
        "Your job is to determine the relationship between energy, momentum and mass using these data.  \n",
        "\n",
        "What do we know?  \n",
        "- The path of the electrons in the electric field is used to determine the energy of the electron.  \n",
        "- The path of the electrons in the magnetic field is used to determine the momentum of the electron.\n",
        "- The shape of graphed data gives evidence for how to modify the data to plot a linear graph.\n",
        " - The units of the slope and intercept of a linear graph give evidence for the physical meaning of the slope and intercept values.\n",
        "\n",
        "What do we need?  \n",
        "- Data table\n",
        "\n",
        "The [data table](https://github.com/meganalvord/partilcephysicsdata/blob/main/Exercise%20-%20EPM%20data%20-%20Sheet1.csv) has the first 4 rows from simulated data, the next 5 rows from Bucherer's 1909 data, and the last 5 rows from Kaufmann's 1901 data. Go to the link and click until you have the 'raw data' (this will look like a white page with just a lot of data). Copy that url for use below"
      ]
    },
    {
      "cell_type": "code",
      "execution_count": null,
      "id": "c39b8e6a-f71e-435d-b0c9-55ff0f71ed16",
      "metadata": {
        "id": "c39b8e6a-f71e-435d-b0c9-55ff0f71ed16"
      },
      "outputs": [],
      "source": [
        "import matplotlib.pyplot as plt\n",
        "import numpy as np\n",
        "import pandas as pd\n",
        "\n",
        "data = pd.read_csv('put the link here')\n",
        "\n",
        "data.head()\n"
      ]
    },
    {
      "cell_type": "code",
      "execution_count": null,
      "id": "9201c008-2727-4b56-8eff-185ed16f7044",
      "metadata": {
        "id": "9201c008-2727-4b56-8eff-185ed16f7044"
      },
      "outputs": [],
      "source": [
        "#using the dataframe/csv file from above, plot energy (E) as a function of momentum (p). Remember, you plot y as a function of x\n",
        "#be sure to use good graphing practices: titles, axis labels with units, etc.\n",
        "\n"
      ]
    },
    {
      "cell_type": "markdown",
      "id": "ef5eb98c-cfe7-461d-8593-23be6a0a40f2",
      "metadata": {
        "id": "ef5eb98c-cfe7-461d-8593-23be6a0a40f2"
      },
      "source": [
        "#### Answer this question in this markdown box\n",
        "Describe the relationship between energy and momentum using features of your graph:"
      ]
    },
    {
      "cell_type": "markdown",
      "id": "b68a93fa-0e0c-4f09-8b11-a11029b58b43",
      "metadata": {
        "id": "b68a93fa-0e0c-4f09-8b11-a11029b58b43"
      },
      "source": [
        "***\n",
        "\n",
        "The graph above is not linear and needs to be linearized for us to derive meaning. Thinking back to the special relativity equation, you will need to modify both the y variable and the x variable. We can do this by adding new columns to our dataframe"
      ]
    },
    {
      "cell_type": "code",
      "execution_count": null,
      "id": "6b155044-2b30-48c7-a2d8-95068059b64f",
      "metadata": {
        "id": "6b155044-2b30-48c7-a2d8-95068059b64f"
      },
      "outputs": [],
      "source": [
        "#I'll model one and then leave you to do the next\n",
        "#We need to square the energy value\n",
        "\n",
        "#I am going to define a new column, called E^2. This will equal the value from the original column E squared\n",
        "\n",
        "data['E^2'] = data['E (MeV)']**2\n",
        "\n",
        "data.head() #so we can see what happened\n"
      ]
    },
    {
      "cell_type": "code",
      "execution_count": null,
      "id": "2d36acb2-288c-4c24-86ae-d0f882d8d64c",
      "metadata": {
        "id": "2d36acb2-288c-4c24-86ae-d0f882d8d64c"
      },
      "outputs": [],
      "source": [
        "# Now you. What do you have to do the momentum value? Replicate it here\n",
        "\n"
      ]
    },
    {
      "cell_type": "code",
      "execution_count": null,
      "id": "e4ee0921-2452-4728-b139-fea5c5e4516f",
      "metadata": {
        "id": "e4ee0921-2452-4728-b139-fea5c5e4516f"
      },
      "outputs": [],
      "source": [
        "# Now plot the modified data. Again, remember all of your good graphing skills\n",
        "\n"
      ]
    },
    {
      "cell_type": "markdown",
      "id": "7025a790-298e-471a-868d-07906eb853c2",
      "metadata": {
        "id": "7025a790-298e-471a-868d-07906eb853c2"
      },
      "source": [
        "Now here is some code that you will need to copy into the cell above and then modify to fit your data\n",
        "\n",
        "#find line of best fit  \n",
        "a, b = np.polyfit(x, y, 1)  \n",
        "\n",
        "#add line of best fit to plot  \n",
        "plt.plot(x, a*x+b)\n",
        "\n",
        "print out the values of a and b to see your slope and intercept values"
      ]
    },
    {
      "cell_type": "markdown",
      "id": "ad1213c9-b2a4-4c99-ad92-612597a9b8cf",
      "metadata": {
        "id": "ad1213c9-b2a4-4c99-ad92-612597a9b8cf"
      },
      "source": [
        "***\n",
        "### Analysis\n",
        "\n",
        "The goal of a matching table is to match the graphical data and line of best fit to a known physics equation (at least at the high school level. the goal of research is to discover these physics equations).\n",
        "\n",
        "Using your linear plot, your line of best fit, and the relativity equation, fill out the following matching table (this is a new format for me in markdown so if it's too confusing or the formatting goes haywire, feel free to do this on paper and link into here)\n",
        "\n",
        "| Math               | y | = | m | * | x | + | b |\n",
        "|--------------------|---|---|---|---|---|---|---|\n",
        "| Numbers with units |   | = |   | * |   | + |   |\n",
        "| Physics equation   |   | = |   | * |   | + |   |\n",
        "| Units              |   | = |   | * |   | + |   |   |\n",
        "\n"
      ]
    },
    {
      "cell_type": "markdown",
      "id": "3469110c-5a35-4df4-95da-74e331818cfa",
      "metadata": {
        "id": "3469110c-5a35-4df4-95da-74e331818cfa"
      },
      "source": [
        "***\n",
        "\n",
        "### Interpretation\n",
        "\n",
        "1. Describe the physical meaning of the slope of the linearized graph. Use the units as a clue\n",
        "\n",
        "2. Describe the physical meaning of the intercept of the linearized graph. Remember that when\n",
        "momentum equals zero, the electron is at rest in the reference frame. Use the units as a clue\n",
        "\n",
        "3. What is the mass of an electron based on the data? .\n",
        "\n"
      ]
    },
    {
      "cell_type": "markdown",
      "id": "d1bb7dc0-c7f9-4cc2-9154-fc43b2562f40",
      "metadata": {
        "id": "d1bb7dc0-c7f9-4cc2-9154-fc43b2562f40"
      },
      "source": [
        "***\n",
        "### Conclusion\n",
        "\n",
        "For your conclusion you should write\n",
        "- What you did (what was your goal?)   1 SENTENCE\n",
        "- How you did it (how did you get your plots?)  1 SENTENCE\n",
        "- Take-Aways (what is the answer to the goal? Is the slope significant? Or the y-intercept?) 1 SENTENCE  \n",
        "Try to keep it as concise as possible (3 sentences is ideal)\n"
      ]
    },
    {
      "cell_type": "code",
      "execution_count": null,
      "id": "9e2db0c2-b5ca-453f-a0f9-245bb3beaa22",
      "metadata": {
        "id": "9e2db0c2-b5ca-453f-a0f9-245bb3beaa22"
      },
      "outputs": [],
      "source": []
    }
  ],
  "metadata": {
    "kernelspec": {
      "display_name": "Python 3 (ipykernel)",
      "language": "python",
      "name": "python3"
    },
    "language_info": {
      "codemirror_mode": {
        "name": "ipython",
        "version": 3
      },
      "file_extension": ".py",
      "mimetype": "text/x-python",
      "name": "python",
      "nbconvert_exporter": "python",
      "pygments_lexer": "ipython3",
      "version": "3.11.5"
    },
    "colab": {
      "provenance": [],
      "include_colab_link": true
    }
  },
  "nbformat": 4,
  "nbformat_minor": 5
}